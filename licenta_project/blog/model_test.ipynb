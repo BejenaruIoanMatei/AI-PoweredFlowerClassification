{
 "cells": [
  {
   "cell_type": "code",
   "execution_count": null,
   "metadata": {},
   "outputs": [],
   "source": [
    "import os\n",
    "import numpy as np\n",
    "import tensorflow as tf \n",
    "import seaborn as sns \n",
    "from sklearn.metrics import classification_report, confusion_matrix, accuracy_score\n",
    "from tensorflow.keras.preprocessing import image\n",
    "from tqdm import tqdm\n",
    "import pandas as pd\n",
    "from keras.models import load_model\n"
   ]
  },
  {
   "cell_type": "code",
   "execution_count": null,
   "metadata": {},
   "outputs": [],
   "source": [
    "model_path = '/Users/user/Documents/GitHub/LucrareLicenta-FII-UAIC/classifier/18-iunie/Modul-18-iunie.keras'\n",
    "\n",
    "if not os.path.isfile(model_path):\n",
    "    print('not good')"
   ]
  },
  {
   "cell_type": "code",
   "execution_count": null,
   "metadata": {},
   "outputs": [],
   "source": [
    "model_v2_path = '/Users/user/Documents/GitHub/LucrareLicenta-FII-UAIC/classifier/24-iunie/Modul-24-iunie.keras'\n",
    "\n",
    "if not os.path.isfile(model_path):\n",
    "    print('not good')"
   ]
  },
  {
   "cell_type": "code",
   "execution_count": null,
   "metadata": {},
   "outputs": [],
   "source": [
    "model_v2 = tf.keras.models.load_model(model_v2_path)"
   ]
  },
  {
   "cell_type": "code",
   "execution_count": null,
   "metadata": {},
   "outputs": [],
   "source": [
    "model = tf.keras.models.load_model(model_path)"
   ]
  },
  {
   "cell_type": "code",
   "execution_count": null,
   "metadata": {},
   "outputs": [],
   "source": [
    "dataset_path = '../../classifier/test_dataset/data_simplificat'\n",
    "\n",
    "if not os.path.isdir(dataset_path):\n",
    "    print('not good')"
   ]
  },
  {
   "cell_type": "code",
   "execution_count": null,
   "metadata": {},
   "outputs": [],
   "source": [
    "images = []\n",
    "labels = []\n",
    "image_paths = []\n",
    "    \n",
    "class_names = sorted(os.listdir(dataset_path))\n",
    "class_to_idx = {name: idx for idx, name in enumerate(class_names)}\n",
    "    \n",
    "print(f\"Classes: {class_names}\")\n",
    "    \n",
    "for class_name in class_names:\n",
    "    class_path = os.path.join(dataset_path, class_name)\n",
    "    if os.path.isdir(class_path):\n",
    "        print(f\"Processing: {class_name}\")\n",
    "            \n",
    "        for img_file in os.listdir(class_path):\n",
    "            if img_file.lower().endswith(('.png', '.jpg', '.jpeg')):\n",
    "                img_path = os.path.join(class_path, img_file)\n",
    "                image_paths.append(img_path)\n",
    "                labels.append(class_to_idx[class_name])"
   ]
  },
  {
   "cell_type": "code",
   "execution_count": null,
   "metadata": {},
   "outputs": [],
   "source": [
    "def remove_ds_store(root_path):\n",
    "    removed = 0\n",
    "    for dirpath, dirnames, filenames in os.walk(root_path):\n",
    "        for file in filenames:\n",
    "            if file == '.DS_Store':\n",
    "                file_path = os.path.join(dirpath, file)\n",
    "                try:\n",
    "                    os.remove(file_path)\n",
    "                    removed += 1\n",
    "                    print(f\"Removed: {file_path}\")\n",
    "                except Exception as e:\n",
    "                    print(f\"Failed to remove {file_path}: {e}\")\n",
    "    if removed == 0:\n",
    "        print(\"No .DS_Store files found.\")\n",
    "    else:\n",
    "        print(f\"Removed {removed} .DS_Store files.\")\n",
    "\n",
    "\n",
    "remove_ds_store(dataset_path)"
   ]
  },
  {
   "cell_type": "code",
   "execution_count": null,
   "metadata": {},
   "outputs": [],
   "source": [
    "len(image_paths)"
   ]
  },
  {
   "cell_type": "code",
   "execution_count": null,
   "metadata": {},
   "outputs": [],
   "source": [
    "import cv2"
   ]
  },
  {
   "cell_type": "code",
   "execution_count": null,
   "metadata": {},
   "outputs": [],
   "source": [
    "from matplotlib import pyplot as plt "
   ]
  },
  {
   "cell_type": "code",
   "execution_count": null,
   "metadata": {},
   "outputs": [],
   "source": [
    "import json\n",
    "\n",
    "CLASS_LABELS_PATH = \"/Users/user/Documents/GitHub/LucrareLicenta-FII-UAIC/classifier/5-iunie/class_labels.json\"\n",
    "\n",
    "with open(CLASS_LABELS_PATH) as f:\n",
    "    class_labels_from_json = json.load(f)\n",
    "\n",
    "print(\"Clase din class_labels.json:\")\n",
    "for i, label in enumerate(class_labels_from_json):\n",
    "    print(f\"  {i}: {label}\")\n",
    "\n",
    "all_model_classes = class_labels_from_json\n",
    "print(f\"\\nTotal clase: {len(all_model_classes)}\")"
   ]
  },
  {
   "cell_type": "code",
   "execution_count": null,
   "metadata": {},
   "outputs": [],
   "source": [
    "from tensorflow.keras.preprocessing import image\n",
    "from tensorflow.keras.applications.efficientnet import preprocess_input"
   ]
  },
  {
   "cell_type": "code",
   "execution_count": null,
   "metadata": {},
   "outputs": [],
   "source": [
    "predictions = []\n",
    "prediction_probabilities = []\n",
    "processed_images = []\n",
    "valid_paths = []\n",
    "valid_labels = []\n",
    "\n",
    "print(f\"Total imagini: {len(image_paths)}\")\n",
    "\n",
    "for i, (img_path, true_label) in enumerate(tqdm(zip(image_paths, labels), total=len(image_paths))):\n",
    "    try:\n",
    "        img = image.load_img(img_path, target_size=(260, 260))\n",
    "        \n",
    "        img_array = image.img_to_array(img)\n",
    "        img_array = np.expand_dims(img_array, axis=0)\n",
    "        img_array = preprocess_input(img_array)\n",
    "        \n",
    "        preds = model.predict(img_array, verbose=0)[0]\n",
    "        predicted_index = np.argmax(preds)\n",
    "        \n",
    "        predictions.append(predicted_index)\n",
    "        prediction_probabilities.append(preds)\n",
    "        \n",
    "        img_for_display = image.load_img(img_path, target_size=(260, 260))\n",
    "        img_display_array = image.img_to_array(img_for_display) / 255.0\n",
    "        processed_images.append(img_display_array)\n",
    "        \n",
    "        valid_paths.append(img_path)\n",
    "        valid_labels.append(true_label)\n",
    "        \n",
    "        if (i + 1) % 10 == 0:\n",
    "            print(f\"Procesate {i + 1}/{len(image_paths)} imagini\")\n",
    "            \n",
    "    except Exception as e:\n",
    "        print(f\"Eroare la procesarea {img_path}: {e}\")\n",
    "        continue\n",
    "    \n",
    "print(f\"Imagini procesate cu succes: {len(predictions)}\")\n"
   ]
  },
  {
   "cell_type": "code",
   "execution_count": null,
   "metadata": {},
   "outputs": [],
   "source": [
    "def map_dataset_to_model_indices(dataset_class_names, model_class_names):\n",
    "    dataset_to_model = {}\n",
    "    for dataset_idx, dataset_class in enumerate(dataset_class_names):\n",
    "        if dataset_class in model_class_names:\n",
    "            model_idx = model_class_names.index(dataset_class)\n",
    "            dataset_to_model[dataset_idx] = model_idx\n",
    "        else:\n",
    "            print(f\"Clasa '{dataset_class}' nu exista in model\")\n",
    "    return dataset_to_model\n",
    "\n",
    "dataset_to_model_map = map_dataset_to_model_indices(class_names, class_labels_from_json)\n",
    "print(\"Mapare clase dataset -> model:\")\n",
    "for dataset_idx, model_idx in dataset_to_model_map.items():\n",
    "    print(f\"  {class_names[dataset_idx]} (dataset:{dataset_idx}) -> {class_labels_from_json[model_idx]} (model:{model_idx})\")\n",
    "\n",
    "total_tested = len(predictions)\n",
    "correct_predictions = sum(1 for i in range(len(predictions)) \n",
    "                         if predictions[i] == dataset_to_model_map[valid_labels[i]])\n",
    "accuracy = correct_predictions / total_tested\n",
    "\n",
    "print('\\n')\n",
    "print(\"Niste rezultate:\")\n",
    "print(f\"Total imagini testate: {total_tested}\")\n",
    "print(f\"Predictii corecte: {correct_predictions}\")\n",
    "print(f\"Predictii gresite: {total_tested - correct_predictions}\")\n",
    "print(f\"Acuratetea: {accuracy:.2%}\")"
   ]
  },
  {
   "cell_type": "code",
   "execution_count": null,
   "metadata": {},
   "outputs": [],
   "source": [
    "total_images = len(valid_paths)\n",
    "cols = 3\n",
    "rows = 3\n",
    "\n",
    "fig, axes = plt.subplots(rows, cols, figsize=(15, 25))\n",
    "\n",
    "for i in range(total_images):\n",
    "    row = i // cols\n",
    "    col = i % cols\n",
    "    \n",
    "    img = processed_images[i]\n",
    "    img_path = valid_paths[i]\n",
    "    predicted_idx = predictions[i]\n",
    "    true_idx_dataset = valid_labels[i]\n",
    "    confidence = prediction_probabilities[i][predicted_idx]\n",
    "    \n",
    "    predicted_class = class_labels_from_json[predicted_idx]\n",
    "    \n",
    "    true_idx_model = dataset_to_model_map[true_idx_dataset]\n",
    "    true_class = class_labels_from_json[true_idx_model]\n",
    "    \n",
    "    axes[row, col].imshow(img)\n",
    "    axes[row, col].axis('off')\n",
    "    \n",
    "    color = 'green' if predicted_idx == true_idx_model else 'red'\n",
    "    \n",
    "    title_text = f\"Pred: {predicted_class}\\nActual: {true_class}\\n{confidence:.1%}\"\n",
    "    \n",
    "    axes[row, col].set_title(title_text, fontsize=12, color=color, pad=10, weight='bold')\n",
    "\n",
    "for i in range(total_images, rows * cols):\n",
    "    row = i // cols\n",
    "    col = i % cols\n",
    "    axes[row, col].axis('off')\n",
    "\n",
    "plt.tight_layout(pad=2.0)\n",
    "\n",
    "plt.show()"
   ]
  },
  {
   "cell_type": "code",
   "execution_count": null,
   "metadata": {},
   "outputs": [],
   "source": [
    "type(model_v2)"
   ]
  },
  {
   "cell_type": "code",
   "execution_count": null,
   "metadata": {},
   "outputs": [],
   "source": [
    "predictions = []\n",
    "prediction_probabilities = []\n",
    "processed_images = []\n",
    "valid_paths = []\n",
    "valid_labels = []\n",
    "\n",
    "print(f\"Total imagini: {len(image_paths)}\")\n",
    "\n",
    "for i, (img_path, true_label) in enumerate(tqdm(zip(image_paths, labels), total=len(image_paths))):\n",
    "    try:\n",
    "        img = image.load_img(img_path, target_size=(300, 300))\n",
    "        \n",
    "        img_array = image.img_to_array(img)\n",
    "        img_array = np.expand_dims(img_array, axis=0)\n",
    "        img_array = preprocess_input(img_array)\n",
    "        \n",
    "        preds = model.predict(img_array, verbose=0)[0]\n",
    "        predicted_index = np.argmax(preds)\n",
    "        \n",
    "        predictions.append(predicted_index)\n",
    "        prediction_probabilities.append(preds)\n",
    "        \n",
    "        img_for_display = image.load_img(img_path, target_size=(300, 300))\n",
    "        img_display_array = image.img_to_array(img_for_display) / 255.0\n",
    "        processed_images.append(img_display_array)\n",
    "        \n",
    "        valid_paths.append(img_path)\n",
    "        valid_labels.append(true_label)\n",
    "        \n",
    "        if (i + 1) % 10 == 0:\n",
    "            print(f\"Procesate {i + 1}/{len(image_paths)} imagini\")\n",
    "            \n",
    "    except Exception as e:\n",
    "        print(f\"Eroare la procesarea {img_path}: {e}\")\n",
    "        continue\n",
    "    \n",
    "print(f\"Imagini procesate cu succes: {len(predictions)}\")\n"
   ]
  },
  {
   "cell_type": "code",
   "execution_count": null,
   "metadata": {},
   "outputs": [],
   "source": [
    "def map_dataset_to_model_indices(dataset_class_names, model_class_names):\n",
    "    dataset_to_model = {}\n",
    "    for dataset_idx, dataset_class in enumerate(dataset_class_names):\n",
    "        if dataset_class in model_class_names:\n",
    "            model_idx = model_class_names.index(dataset_class)\n",
    "            dataset_to_model[dataset_idx] = model_idx\n",
    "        else:\n",
    "            print(f\"Clasa '{dataset_class}' nu exista in model\")\n",
    "    return dataset_to_model\n",
    "\n",
    "dataset_to_model_map = map_dataset_to_model_indices(class_names, class_labels_from_json)\n",
    "print(\"Mapare clase dataset -> model:\")\n",
    "for dataset_idx, model_idx in dataset_to_model_map.items():\n",
    "    print(f\"  {class_names[dataset_idx]} (dataset:{dataset_idx}) -> {class_labels_from_json[model_idx]} (model:{model_idx})\")\n",
    "\n",
    "total_tested = len(predictions)\n",
    "correct_predictions = sum(1 for i in range(len(predictions)) \n",
    "                         if predictions[i] == dataset_to_model_map[valid_labels[i]])\n",
    "accuracy = correct_predictions / total_tested\n",
    "\n",
    "print('\\n')\n",
    "print(\"Niste rezultate:\")\n",
    "print(f\"Total imagini testate: {total_tested}\")\n",
    "print(f\"Predictii corecte: {correct_predictions}\")\n",
    "print(f\"Predictii gresite: {total_tested - correct_predictions}\")\n",
    "print(f\"Acuratetea: {accuracy:.2%}\")"
   ]
  },
  {
   "cell_type": "code",
   "execution_count": null,
   "metadata": {},
   "outputs": [],
   "source": [
    "total_images = len(valid_paths)\n",
    "cols = 3\n",
    "rows = 3\n",
    "\n",
    "fig, axes = plt.subplots(rows, cols, figsize=(15, 25))\n",
    "\n",
    "for i in range(total_images):\n",
    "    row = i // cols\n",
    "    col = i % cols\n",
    "    \n",
    "    img = processed_images[i]\n",
    "    img_path = valid_paths[i]\n",
    "    predicted_idx = predictions[i]\n",
    "    true_idx_dataset = valid_labels[i]\n",
    "    confidence = prediction_probabilities[i][predicted_idx]\n",
    "    \n",
    "    predicted_class = class_labels_from_json[predicted_idx]\n",
    "    \n",
    "    true_idx_model = dataset_to_model_map[true_idx_dataset]\n",
    "    true_class = class_labels_from_json[true_idx_model]\n",
    "    \n",
    "    axes[row, col].imshow(img)\n",
    "    axes[row, col].axis('off')\n",
    "    \n",
    "    color = 'green' if predicted_idx == true_idx_model else 'red'\n",
    "    \n",
    "    title_text = f\"Pred: {predicted_class}\\nActual: {true_class}\\n{confidence:.1%}\"\n",
    "    \n",
    "    axes[row, col].set_title(title_text, fontsize=12, color=color, pad=10, weight='bold')\n",
    "\n",
    "for i in range(total_images, rows * cols):\n",
    "    row = i // cols\n",
    "    col = i % cols\n",
    "    axes[row, col].axis('off')\n",
    "\n",
    "plt.tight_layout(pad=2.0)\n",
    "\n",
    "plt.show()"
   ]
  }
 ],
 "metadata": {
  "kernelspec": {
   "display_name": "venv",
   "language": "python",
   "name": "python3"
  },
  "language_info": {
   "codemirror_mode": {
    "name": "ipython",
    "version": 3
   },
   "file_extension": ".py",
   "mimetype": "text/x-python",
   "name": "python",
   "nbconvert_exporter": "python",
   "pygments_lexer": "ipython3",
   "version": "3.12.6"
  },
  "orig_nbformat": 4
 },
 "nbformat": 4,
 "nbformat_minor": 2
}
